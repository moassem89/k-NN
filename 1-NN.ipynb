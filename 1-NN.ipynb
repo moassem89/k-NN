{
 "cells": [
  {
   "cell_type": "code",
   "execution_count": 103,
   "id": "b79d3155-b937-4dda-ac4e-ac497084b1bb",
   "metadata": {},
   "outputs": [],
   "source": [
    "import numpy as np\n",
    "\n",
    "def euclidean_distance(point1, point2):\n",
    "    \n",
    "    return np.sqrt(np.sum((np.array(point1) - np.array(point2))**2))\n",
    "\n",
    "def find_nearest_neighbor(dataset, target_point):\n",
    "\n",
    "    min_distance = float('inf')\n",
    "    nearest_point = None\n",
    "\n",
    "    for data_point in dataset:\n",
    "        distance = euclidean_distance(target_point, data_point[0])\n",
    "        if distance < min_distance:\n",
    "            min_distance = distance\n",
    "            nearest_point = data_point\n",
    "\n",
    "    return nearest_point\n",
    "\n",
    "def classify(dataset, target_point):\n",
    "    \n",
    "    nearest_neighbor = find_nearest_neighbor(dataset, target_point)\n",
    "    \n",
    "    return nearest_neighbor[1]\n",
    "    "
   ]
  },
  {
   "cell_type": "code",
   "execution_count": 124,
   "id": "821948a9-636e-4ff7-aa9e-7db81df0119a",
   "metadata": {},
   "outputs": [],
   "source": [
    "data = [[[255,0,0],\"RED\"], [[255,51,0],\"RED\"], [[255,102,0],\"RED\"], [[204,0,0],\"RED\"], [[190,0,20],\"RED\"], [[0,0,153],\"BLUE\"], [[0,51,204],\"BLUE\"], [[51,51,255],\"BLUE\"], [[0,102,255], \"BLUE\"], [[204,0,198],\"BLUE\"]]\n",
    "target = np.array([255,51,120])"
   ]
  },
  {
   "cell_type": "code",
   "execution_count": 125,
   "id": "81b8e907-6875-45e4-ba80-13de51cc19a7",
   "metadata": {},
   "outputs": [
    {
     "data": {
      "text/plain": [
       "'BLUE'"
      ]
     },
     "execution_count": 125,
     "metadata": {},
     "output_type": "execute_result"
    }
   ],
   "source": [
    "classify(data, target)"
   ]
  },
  {
   "cell_type": "code",
   "execution_count": 126,
   "id": "9abf736f-6094-4d81-895a-40e5aa38fd91",
   "metadata": {},
   "outputs": [],
   "source": [
    "def checking_distances(dataset, target_point):\n",
    "    distances = [euclidean_distance(p, target_point) for p in dataset]\n",
    "    print(distances.sort())"
   ]
  },
  {
   "cell_type": "code",
   "execution_count": 131,
   "id": "b71e7197-e558-4b91-a2b1-cb9af124e3a1",
   "metadata": {},
   "outputs": [],
   "source": [
    "distances = [[p, euclidean_distance(p[0], target_point)] for p in data]"
   ]
  },
  {
   "cell_type": "code",
   "execution_count": 132,
   "id": "9a4344ba-a2ed-4fe1-b56b-c7d2a4a30131",
   "metadata": {},
   "outputs": [],
   "source": [
    "distances.sort(key=lambda x: x[1])"
   ]
  },
  {
   "cell_type": "code",
   "execution_count": 133,
   "id": "d5f51c78-9f5a-4e17-b657-60cf81ee77c8",
   "metadata": {},
   "outputs": [
    {
     "data": {
      "text/plain": [
       "[[[[204, 0, 198], 'BLUE'], 0.0],\n",
       " [[[51, 51, 255], 'BLUE'], 171.05262348178118],\n",
       " [[[190, 0, 20], 'RED'], 178.54971296532514],\n",
       " [[[204, 0, 0], 'RED'], 198.0],\n",
       " [[[255, 0, 0], 'RED'], 204.46271053666484],\n",
       " [[[0, 0, 153], 'BLUE'], 208.90428430264421],\n",
       " [[[0, 51, 204], 'BLUE'], 210.3639702990985],\n",
       " [[[255, 51, 0], 'RED'], 210.72731194603134],\n",
       " [[[255, 102, 0], 'RED'], 228.49288829195538],\n",
       " [[[0, 102, 255], 'BLUE'], 235.0935983815808]]"
      ]
     },
     "execution_count": 133,
     "metadata": {},
     "output_type": "execute_result"
    }
   ],
   "source": [
    "distances"
   ]
  },
  {
   "cell_type": "code",
   "execution_count": null,
   "id": "d43a3ba2-05a2-4710-a57c-8dc6db45ddd2",
   "metadata": {},
   "outputs": [],
   "source": []
  }
 ],
 "metadata": {
  "kernelspec": {
   "display_name": "Python 3",
   "language": "python",
   "name": "python3"
  },
  "language_info": {
   "codemirror_mode": {
    "name": "ipython",
    "version": 3
   },
   "file_extension": ".py",
   "mimetype": "text/x-python",
   "name": "python",
   "nbconvert_exporter": "python",
   "pygments_lexer": "ipython3",
   "version": "3.10.4"
  }
 },
 "nbformat": 4,
 "nbformat_minor": 5
}
