{
 "cells": [
  {
   "cell_type": "code",
   "execution_count": 39,
   "id": "6861fe73-3a29-4bd0-adf6-ce76db478087",
   "metadata": {},
   "outputs": [],
   "source": [
    "def euclidean_distance(point1, point2): \n",
    "    # written in a different way from the one we used in 1-NN.ipynb\n",
    "    sum_sq = 0.0\n",
    "    for i in range(len(point1)):\n",
    "        sum_sq += (point1[i] - point2[i]) ** 2\n",
    "    return sum_sq ** 0.5\n",
    "\n",
    "def classify(dataset, target_point, k):\n",
    "    if k <= 0:\n",
    "        raise ValueError(\"k must be a positive integer\")\n",
    "    if not dataset:\n",
    "        return None\n",
    "\n",
    "    # Compute distances and store with labels\n",
    "    distances = []\n",
    "    for data_point in dataset:\n",
    "        dist = euclidean_distance(target_point, data_point[0])\n",
    "        distances.append((dist, data_point[1]))\n",
    "    \n",
    "    # Sort by distance (ascending)\n",
    "    distances.sort(key=lambda x: x[0])\n",
    "    \n",
    "    #for debugging\n",
    "    print(\"Colors nearby with distances (sorted nearest to farthest): \\n \", distances,\"\\n\")\n",
    "    \n",
    "    # Extract first k neighbors\n",
    "    k_nearest = distances[:k]\n",
    "    \n",
    "    #for debugging\n",
    "    print(\"The nearest \", k, \": \", k_nearest, \"\\n\")\n",
    "    \n",
    "    # Count label frequencies\n",
    "    label_counts = {}\n",
    "    for _, label in k_nearest:\n",
    "        label_counts[label] = label_counts.get(label, 0) + 1\n",
    "        \n",
    "    #for debugging\n",
    "    print(\"Color counts in the nearest\", k, \"neighbors: \" , label_counts, \"\\n\")\n",
    "    \n",
    "    # Find max frequency and candidate labels\n",
    "    max_count = max(label_counts.values())\n",
    "    candidates = [label for label, count in label_counts.items() if count == max_count]\n",
    "    \n",
    "\n",
    "    \n",
    "    # Return the majority label if no tie\n",
    "    if len(candidates) == 1:\n",
    "        return candidates[0]\n",
    "    \n",
    "    # Tie-breaking: pick the candidate with the closest occurrence\n",
    "    for dist, label in k_nearest:\n",
    "        if label in candidates:\n",
    "            return label\n",
    "        \n"
   ]
  },
  {
   "cell_type": "code",
   "execution_count": 40,
   "id": "3f6de83f-46c8-46ef-9b14-bd90a490e584",
   "metadata": {},
   "outputs": [],
   "source": [
    "import numpy as np\n",
    "\n",
    "data = [[[255,0,0],\"RED\"], [[255,51,0],\"RED\"], [[255,102,0],\"RED\"], [[204,0,0],\"RED\"], [[190,0,20],\"RED\"], [[0,0,153],\"BLUE\"], [[0,51,204],\"BLUE\"], [[51,51,255],\"BLUE\"], [[0,102,255], \"BLUE\"], [[204,0,198],\"BLUE\"]]\n",
    "target = np.array([255,51,120])"
   ]
  },
  {
   "cell_type": "code",
   "execution_count": 41,
   "id": "5eddc444-ff07-427f-9379-4d7ed40bd1c9",
   "metadata": {},
   "outputs": [
    {
     "name": "stdout",
     "output_type": "stream",
     "text": [
      "Colors nearby with distances (sorted nearest to farthest): \n",
      "  [(106.23558725775464, 'BLUE'), (120.0, 'RED'), (129.71507237017602, 'RED'), (130.3878828726044, 'RED'), (130.3878828726044, 'RED'), (140.0071426749364, 'RED'), (244.62420158275427, 'BLUE'), (262.1354611646429, 'BLUE'), (268.47904946196456, 'BLUE'), (293.00341294940574, 'BLUE')] \n",
      "\n",
      "The nearest  3 :  [(106.23558725775464, 'BLUE'), (120.0, 'RED'), (129.71507237017602, 'RED')] \n",
      "\n",
      "Color counts in the nearest 3 neighbors:  {'BLUE': 1, 'RED': 2} \n",
      "\n"
     ]
    },
    {
     "data": {
      "text/plain": [
       "'RED'"
      ]
     },
     "execution_count": 41,
     "metadata": {},
     "output_type": "execute_result"
    }
   ],
   "source": [
    "classify(data, target,3)"
   ]
  },
  {
   "cell_type": "markdown",
   "id": "b67ffb56-ea66-4a3c-85c9-81c0562bdcfb",
   "metadata": {},
   "source": [
    "Here's an optimized version using NumPy for vectorized operations, which significantly improves performance. We are not using the big sklearn yet, all this is just for learning"
   ]
  },
  {
   "cell_type": "markdown",
   "id": "e52739d4-45cd-41f2-abc9-47c6ab4d2648",
   "metadata": {},
   "source": [
    "Key Optimizations:\n",
    "\n",
    "    Vectorized Distance Calculation\n",
    "    Uses np.linalg.norm for efficient Euclidean distance computation across all points simultaneously.\n",
    "\n",
    "    Partial Sorting\n",
    "    Uses np.argpartition (O(n) time) instead of full sorting (O(n log n)) to find k-nearest neighbors.\n",
    "\n",
    "    NumPy-based Counting\n",
    "    Leverages np.unique with counts for efficient label frequency calculation.\n",
    "\n",
    "    Tie-breaking\n",
    "    Among majority candidates, selects the label with the smallest distance using the original neighbor ordering.\n",
    "\n",
    "Performance Comparison:\n",
    "\n",
    "Distance Calculation: \n",
    "Before: O(n) with Python loops, but After: O(1) vectorized\n",
    "\n",
    "Neighbor Selection:\n",
    "Before: O(n log n) sorting,  but After: O(n) partitioning\n",
    "\n",
    "Memory Usage here is Moderate (2 arrays)\n",
    "\n",
    "Before is best for Small datasets (n < 1k) while After is for Large datasets"
   ]
  },
  {
   "cell_type": "code",
   "execution_count": null,
   "id": "9caa4a17-b8ee-4995-9adc-81c8c36048bf",
   "metadata": {},
   "outputs": [],
   "source": [
    "import numpy as np\n",
    "\n",
    "def classify(dataset, target_point, k=1):\n",
    "    if k <= 0:\n",
    "        raise ValueError(\"k must be a positive integer\")\n",
    "    if not dataset:\n",
    "        return None\n",
    "\n",
    "    # Convert to NumPy arrays\n",
    "    data_points = np.array([item[0] for item in dataset])\n",
    "    labels = np.array([item[1] for item in dataset])\n",
    "    target = np.array(target_point)\n",
    "    \n",
    "    # Vectorized distance calculation\n",
    "    distances = np.linalg.norm(data_points - target, axis=1)\n",
    "    \n",
    "    # Get k-nearest neighbors\n",
    "    nearest_indices = np.argpartition(distances, k)[:k]\n",
    "    k_nearest_labels = labels[nearest_indices]\n",
    "    \n",
    "    # Count label frequencies\n",
    "    unique_labels, counts = np.unique(k_nearest_labels, return_counts=True)\n",
    "    max_count = np.max(counts)\n",
    "    \n",
    "    # Handle ties by selecting the closest label\n",
    "    if np.sum(counts == max_count) == 1:\n",
    "        return unique_labels[np.argmax(counts)]\n",
    "    else:\n",
    "        # Among tied labels, pick the one with minimal distance\n",
    "        candidate_labels = unique_labels[counts == max_count]\n",
    "        candidate_mask = np.isin(k_nearest_labels, candidate_labels)\n",
    "        closest_candidate_index = nearest_indices[candidate_mask][0]\n",
    "        return labels[closest_candidate_index]"
   ]
  }
 ],
 "metadata": {
  "kernelspec": {
   "display_name": "Python 3",
   "language": "python",
   "name": "python3"
  },
  "language_info": {
   "codemirror_mode": {
    "name": "ipython",
    "version": 3
   },
   "file_extension": ".py",
   "mimetype": "text/x-python",
   "name": "python",
   "nbconvert_exporter": "python",
   "pygments_lexer": "ipython3",
   "version": "3.10.4"
  }
 },
 "nbformat": 4,
 "nbformat_minor": 5
}
